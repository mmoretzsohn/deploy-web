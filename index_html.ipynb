{
  "nbformat": 4,
  "nbformat_minor": 0,
  "metadata": {
    "colab": {
      "name": "index.html",
      "provenance": [],
      "authorship_tag": "ABX9TyOCp6bfqqvatq5zOpM88oLS",
      "include_colab_link": true
    },
    "kernelspec": {
      "name": "python3",
      "display_name": "Python 3"
    }
  },
  "cells": [
    {
      "cell_type": "markdown",
      "metadata": {
        "id": "view-in-github",
        "colab_type": "text"
      },
      "source": [
        "<a href=\"https://colab.research.google.com/github/mmoretzsohn/deploy-web/blob/master/index_html.ipynb\" target=\"_parent\"><img src=\"https://colab.research.google.com/assets/colab-badge.svg\" alt=\"Open In Colab\"/></a>"
      ]
    },
    {
      "cell_type": "code",
      "metadata": {
        "id": "Kks5pA3GNCSa",
        "colab_type": "code",
        "colab": {}
      },
      "source": [
        "<!DOCTYPE html>\n",
        "<html>\n",
        "\t<head>\n",
        "\t\t<title> hello, Mary </title>\n",
        "\n",
        "<script> function greet() { \n",
        "let name = document.querySelector('#name').value;\n",
        " window.alert('olá, ' + name); } </script>\n",
        "\n",
        "\t</head>\n",
        "\t<body style=\"text-align: center\">\n",
        "\t\t<button id=\"red\">NAO APERTE</button>\n",
        "\n",
        "\t<script> document.querySelector('#red').onclick = function () { document.querySelector('body').style.backgroundColor = 'red'; } ; </script>\n",
        "\t<h1> bem vindos ao meu site  </h1>\n",
        "\t<h2> cheio de conteúdos </h2> \n",
        "\t<p> visite <a href=\"http://B findtheinvisiblecow.com/\"> Harvard.com </a> </p>\n",
        "\n",
        "\t<p> <form action=\"https://www.google.com/search\">\n",
        "\t\t<input autofocus name=\"q\" placeholder=\"o que você quer saber?\" type=\"text\">\n",
        "\t\t<input type=\"submit\" value=\"e vamos de pesquisa\"> </p>\n",
        "\t</form>\n",
        "\t\n",
        "\n",
        "\t<p> <form onsubmit=\"greet(); return false;\">\n",
        "\t\t<input id=\"name\" placeholder=\"qual seu nome?\" type=\"text\">\n",
        "\t\t<input type=\"submit\" value=\"diga oi\"> </p>\n",
        "\n",
        "\t<p> Copyright &#169 Marina Moretzsohn  </p> <img src=\"foto.jpg.jpg\"> \n",
        "\t</form>\n",
        "\t</body>\n",
        "</html>"
      ],
      "execution_count": null,
      "outputs": []
    }
  ]
}